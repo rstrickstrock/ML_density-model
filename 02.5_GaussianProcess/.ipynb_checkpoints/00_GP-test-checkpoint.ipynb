{
 "cells": [
  {
   "cell_type": "code",
   "execution_count": 1,
   "id": "f3ecf26b-ffb1-4500-b08a-f0b3316b2718",
   "metadata": {},
   "outputs": [],
   "source": [
    "from sklearn.gaussian_process import GaussianProcessRegressor\n",
    "from sklearn.gaussian_process.kernels import RBF\n",
    "from sklearn.model_selection import train_test_split\n",
    "from sklearn.metrics import mean_squared_error, r2_score\n",
    "\n",
    "import pandas as pd\n",
    "import numpy as np\n",
    "from scipy import stats\n",
    "from matplotlib import pyplot as plt\n",
    "\n",
    "import time"
   ]
  },
  {
   "cell_type": "code",
   "execution_count": 2,
   "id": "82191301-420d-4b9c-bad5-a20121786a46",
   "metadata": {},
   "outputs": [],
   "source": [
    "## grid sampling 1296\n",
    "data1296 = pd.read_csv('CLEANED_gridsearch_1296.csv')\n",
    "data1296 = data1296.drop(data1296.columns[0], axis=1)\n",
    "X_1296 = data1296.drop('density', axis=1)\n",
    "Y_1296 = data1296['density']\n",
    "#print(f'{data1296}')\n",
    "#print(f'{X_1296}')\n",
    "#print(f'{Y_1296}')"
   ]
  },
  {
   "cell_type": "code",
   "execution_count": 3,
   "id": "950f6898-6a57-4208-9591-00830ed21c0e",
   "metadata": {},
   "outputs": [],
   "source": [
    "X_train, X_test, Y_train, Y_test = train_test_split(X_1296, Y_1296, test_size=0.05, random_state=29)"
   ]
  },
  {
   "cell_type": "code",
   "execution_count": 4,
   "id": "081dcbf4-32fd-4393-9c1d-043c032d6cf2",
   "metadata": {},
   "outputs": [],
   "source": [
    "kernel = 1 * RBF(length_scale=1.0, length_scale_bounds=(1e-2, 1e2))\n",
    "n_restarts = 9\n",
    "\n",
    "model1296 = GaussianProcessRegressor(kernel=kernel, n_restarts_optimizer=n_restarts, random_state=29)\n",
    "model1296.fit(X_train, Y_train)\n",
    "\n",
    "Y_prediction1296_mean, Y_prediction1296_std = model1296.predict(X_test, return_std=True)\n",
    "\n",
    "rmse1296 = np.sqrt(mean_squared_error(Y_test, Y_prediction1296_mean))\n",
    "r21296 = r2_score(Y_test, Y_prediction1296_mean)\n",
    "spearman_r1296 = stats.spearmanr(Y_test, Y_prediction1296_mean)"
   ]
  },
  {
   "cell_type": "code",
   "execution_count": 5,
   "id": "5f15dad7-8052-4b5f-9169-ac9cd09bfead",
   "metadata": {},
   "outputs": [
    {
     "name": "stdout",
     "output_type": "stream",
     "text": [
      "y_prediction_mean: [637.89052234 878.01116131 634.30026583 590.79528624 664.04353351\n",
      " 685.26567038 714.73137561 852.29764618 623.2874061  657.10880044\n",
      " 617.74406206 637.32498024 808.3670393  662.89182402 743.36736628\n",
      " 647.42857795 737.21716234 819.19466734 877.83580981 762.78973374\n",
      " 690.41784958 665.59475664 680.99823575 633.10293692 676.39227228\n",
      " 697.91592099 597.42314225 804.69840388 670.65639871 608.32994093\n",
      " 809.01724937 540.6959359  635.21677148 678.64202051 756.51488996\n",
      " 651.09993976 735.88090303 665.96905606 688.98786295 691.94895035\n",
      " 805.9269697  510.92525631 636.93234811 860.00014468 728.87808938\n",
      " 658.91070452 606.0505013  632.11730899 630.77573685 356.66120006\n",
      " 675.32201464 803.66214272 610.32901833 648.74257589 652.68184368\n",
      " 700.52602642]\n",
      "y_prediction_std: [  1.36646935  13.78735355   2.85147444   4.25753885   1.707574\n",
      "  11.91046305   3.43968981   2.71110888   3.81136472  22.91616438\n",
      "   2.49761962   2.29141809   2.64920648   2.76026524  16.82324091\n",
      "   1.43718203   2.8735715    8.96468625   4.43805346   9.09032609\n",
      "   1.94503009   2.46588486   1.53024577   2.66649553   1.49629663\n",
      "   4.90598338  21.36451039  14.79834951   3.45409238   5.65138437\n",
      "  12.0780742  124.69089937   1.52565542   3.34409519   3.4115461\n",
      "   2.03683689   1.95652407  10.93363119   3.65091281   2.50907699\n",
      "   4.69338875 160.74982991   3.77226845   4.88167384   3.57467732\n",
      "   1.73877444   3.26800977   3.58592613  12.35210729 160.48930121\n",
      "  18.24217836  11.53123422   4.38250347  12.54903341   3.39522385\n",
      "  10.98057146]\n"
     ]
    }
   ],
   "source": [
    "print(f'y_prediction_mean: {Y_prediction1296_mean}')\n",
    "print(f'y_prediction_std: {Y_prediction1296_std}')"
   ]
  },
  {
   "cell_type": "code",
   "execution_count": 10,
   "id": "f4e9a85d-9b0a-4ba5-a67b-84e3fdbf40ca",
   "metadata": {},
   "outputs": [
    {
     "name": "stdout",
     "output_type": "stream",
     "text": [
      "RMSE: 20.880321440696687\n",
      "R2: 0.9444236680170577\n",
      "Spearman Rank: 0.9531100478468899\n"
     ]
    }
   ],
   "source": [
    "print(f'RMSE: {rmse1296}')\n",
    "print(f'R2: {r21296}')\n",
    "print(f'Spearman Rank: {spearman_r1296.statistic}')"
   ]
  },
  {
   "cell_type": "code",
   "execution_count": 11,
   "id": "fad44afc-8e5d-4b76-9019-2e2f94edeac2",
   "metadata": {},
   "outputs": [
    {
     "name": "stderr",
     "output_type": "stream",
     "text": [
      "C:\\Users\\H-BRS\\AppData\\Local\\Programs\\Python\\Python312\\Lib\\site-packages\\sklearn\\gaussian_process\\kernels.py:452: ConvergenceWarning: The optimal value found for dimension 0 of parameter k1__constant_value is close to the specified upper bound 100000.0. Increasing the bound and calling fit again may find a better value.\n",
      "  warnings.warn(\n"
     ]
    }
   ],
   "source": [
    "## grid sampling 2401\n",
    "data2401 = pd.read_csv('CLEANED_gridsearch_2401.csv')\n",
    "data2401 = data2401.drop(data2401.columns[0], axis=1)\n",
    "X_2401 = data2401.drop('density', axis=1)\n",
    "Y_2401 = data2401['density']\n",
    "\n",
    "X_train_2401, X_test_2401, Y_train_2401, Y_test_2401 = train_test_split(X_2401, Y_2401, test_size=0.05, random_state=29)\n",
    "\n",
    "kernel = 1 * RBF(length_scale=1.0, length_scale_bounds=(1e-2, 1e2))\n",
    "n_restarts = 9\n",
    "\n",
    "model2401 = GaussianProcessRegressor(kernel=kernel, n_restarts_optimizer=n_restarts, random_state=29)\n",
    "model2401.fit(X_train_2401, Y_train_2401)\n",
    "\n",
    "Y_prediction2401_mean, Y_prediction2401_std = model2401.predict(X_test_2401, return_std=True)\n",
    "\n",
    "rmse2401 = np.sqrt(mean_squared_error(Y_test_2401, Y_prediction2401_mean))\n",
    "r22401 = r2_score(Y_test_2401, Y_prediction2401_mean)\n",
    "spearman_r2401 = stats.spearmanr(Y_test_2401, Y_prediction2401_mean)"
   ]
  },
  {
   "cell_type": "code",
   "execution_count": 12,
   "id": "fa060ef9-26af-4555-acc6-93832a3ef0c4",
   "metadata": {},
   "outputs": [
    {
     "name": "stdout",
     "output_type": "stream",
     "text": [
      "RMSE: 66.15448573178519\n",
      "R2: -0.008554778373008443\n",
      "Spearman Rank: 0.7291113381001023\n"
     ]
    }
   ],
   "source": [
    "print(f'RMSE: {rmse2401}')\n",
    "print(f'R2: {r22401}')\n",
    "print(f'Spearman Rank: {spearman_r2401.statistic}')"
   ]
  },
  {
   "cell_type": "code",
   "execution_count": 13,
   "id": "aec4c1bb-d151-4d78-a948-da737d86a798",
   "metadata": {},
   "outputs": [],
   "source": [
    "## grid sampling Sobol1\n",
    "dataSobol1 = pd.read_csv('CLEANED_sobolsampling-2048.csv')\n",
    "dataSobol1 = dataSobol1.drop(dataSobol1.columns[0], axis=1)\n",
    "X_Sobol1 = dataSobol1.drop('density', axis=1)\n",
    "Y_Sobol1 = dataSobol1['density']\n",
    "\n",
    "X_train_Sobol1, X_test_Sobol1, Y_train_Sobol1, Y_test_Sobol1 = train_test_split(X_Sobol1, Y_Sobol1, test_size=0.05, random_state=29)\n",
    "\n",
    "kernel = 1 * RBF(length_scale=1.0, length_scale_bounds=(1e-2, 1e2))\n",
    "n_restarts = 9\n",
    "\n",
    "modelSobol1 = GaussianProcessRegressor(kernel=kernel, n_restarts_optimizer=n_restarts, random_state=29)\n",
    "modelSobol1.fit(X_train_Sobol1, Y_train_Sobol1)\n",
    "\n",
    "Y_predictionSobol1_mean, Y_predictionSobol1_std = modelSobol1.predict(X_test_Sobol1, return_std=True)\n",
    "\n",
    "rmseSobol1 = np.sqrt(mean_squared_error(Y_test_Sobol1, Y_predictionSobol1_mean))\n",
    "r2Sobol1 = r2_score(Y_test_Sobol1, Y_predictionSobol1_mean)\n",
    "spearman_rSobol1 = stats.spearmanr(Y_test_Sobol1, Y_predictionSobol1_mean)"
   ]
  },
  {
   "cell_type": "code",
   "execution_count": 14,
   "id": "44084e3d-b5c3-446a-acea-5a2c455faf6d",
   "metadata": {},
   "outputs": [
    {
     "name": "stdout",
     "output_type": "stream",
     "text": [
      "RMSE: 13.587668079066054\n",
      "R2: 0.9854014867038401\n",
      "Spearman Rank: 0.9818287711124052\n"
     ]
    }
   ],
   "source": [
    "print(f'RMSE: {rmseSobol1}')\n",
    "print(f'R2: {r2Sobol1}')\n",
    "print(f'Spearman Rank: {spearman_rSobol1.statistic}')"
   ]
  },
  {
   "cell_type": "code",
   "execution_count": null,
   "id": "daac86bb-b4f1-4f74-873e-117645a97fb3",
   "metadata": {},
   "outputs": [],
   "source": [
    "## grid sampling Sobol2\n",
    "dataSobol2 = pd.read_csv('CLEANED_sobolsampling-2048-2.csv')\n",
    "dataSobol2 = dataSobol2.drop(dataSobol2.columns[0], axis=1)\n",
    "X_Sobol2 = dataSobol2.drop('density', axis=1)\n",
    "Y_Sobol2 = dataSobol2['density']\n",
    "\n",
    "X_train_Sobol2, X_test_Sobol2, Y_train_Sobol2, Y_test_Sobol2 = train_test_split(X_Sobol2, Y_Sobol2, test_size=0.05, random_state=29)\n",
    "\n",
    "kernel = 1 * RBF(length_scale=1.0, length_scale_bounds=(1e-2, 1e2))\n",
    "n_restarts = 9\n",
    "\n",
    "modelSobol2 = GaussianProcessRegressor(kernel=kernel, n_restarts_optimizer=n_restarts, random_state=29)\n",
    "t1 = time.time()\n",
    "modelSobol2.fit(X_train_Sobol2, Y_train_Sobol2)\n",
    "dt = time.time() - t1\n",
    "\n",
    "Y_predictionSobol2_mean, Y_predictionSobol2_std = modelSobol2.predict(X_test_Sobol2, return_std=True)\n",
    "\n",
    "rmseSobol2 = np.sqrt(mean_squared_error(Y_test_Sobol2, Y_predictionSobol2_mean))\n",
    "r2Sobol2 = r2_score(Y_test_Sobol2, Y_predictionSobol2_mean)\n",
    "spearman_rSobol2 = stats.spearmanr(Y_test_Sobol2, Y_predictionSobol2_mean)\n",
    "\n",
    "print('time: {dt}s \\n      {dt/60}min \\n      {dt/3600}hrs')"
   ]
  },
  {
   "cell_type": "code",
   "execution_count": null,
   "id": "d4f14b27-fe27-47f9-bed6-5c725a6d041c",
   "metadata": {},
   "outputs": [],
   "source": [
    "print(f'RMSE: {rmseSobol2}')\n",
    "print(f'R2: {r2Sobol2}')\n",
    "print(f'Spearman Rank: {spearman_rSobol2.statistic}')"
   ]
  },
  {
   "cell_type": "code",
   "execution_count": null,
   "id": "0daadddc-2301-4dd8-a8d7-8155dbc7f578",
   "metadata": {},
   "outputs": [],
   "source": [
    "### import pickle\n",
    "### Tutorial ###\n",
    "### # save the model to disk\n",
    "### filename = 'gpr_model.sav'\n",
    "### pickle.dump(gpr, open(filename, 'wb')) \n",
    "### \n",
    "### # load the model from disk\n",
    "### loaded_model = pickle.load(open(filename, 'rb'))"
   ]
  },
  {
   "cell_type": "code",
   "execution_count": null,
   "id": "c99d5ab5-26e1-4dac-a129-bec5ca0f6965",
   "metadata": {},
   "outputs": [],
   "source": [
    "import pickle\n",
    "pickle.dump(model1296, open('trained_model1296.sav', 'wb'))\n",
    "pickle.dump(model2401, open('trained_model2401.sav', 'wb'))\n",
    "pickle.dump(modelSobol1, open('trained_modelSobol1.sav', 'wb'))\n",
    "pickle.dump(modelSobol2, open('trained_modelSobol2.sav', 'wb'))"
   ]
  }
 ],
 "metadata": {
  "kernelspec": {
   "display_name": "Python 3 (ipykernel)",
   "language": "python",
   "name": "python3"
  },
  "language_info": {
   "codemirror_mode": {
    "name": "ipython",
    "version": 3
   },
   "file_extension": ".py",
   "mimetype": "text/x-python",
   "name": "python",
   "nbconvert_exporter": "python",
   "pygments_lexer": "ipython3",
   "version": "3.12.7"
  }
 },
 "nbformat": 4,
 "nbformat_minor": 5
}
