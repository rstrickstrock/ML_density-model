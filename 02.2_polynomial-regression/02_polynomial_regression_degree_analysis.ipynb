{
 "cells": [
  {
   "cell_type": "markdown",
   "id": "f6fef9f8-ba9e-498a-b26f-3d379cae2f98",
   "metadata": {},
   "source": [
    "# Polynomial Regression Model"
   ]
  },
  {
   "cell_type": "markdown",
   "id": "00cce2a9-60e5-4025-9031-ac6e86376d40",
   "metadata": {},
   "source": [
    "## import libs"
   ]
  },
  {
   "cell_type": "code",
   "execution_count": 1,
   "id": "1dc5d9d1-a53b-4cea-a79c-2869e20421f1",
   "metadata": {},
   "outputs": [],
   "source": [
    "from sklearn.model_selection import train_test_split\n",
    "from sklearn.linear_model import LinearRegression\n",
    "from sklearn.metrics import mean_squared_error, r2_score\n",
    "from sklearn.preprocessing import PolynomialFeatures\n",
    "from sklearn.pipeline import make_pipeline\n",
    "\n",
    "import numpy as np\n",
    "import pandas as pd"
   ]
  },
  {
   "cell_type": "markdown",
   "id": "d482d20d-af65-4748-acd5-bcf644835a3f",
   "metadata": {},
   "source": [
    "## read data base"
   ]
  },
  {
   "cell_type": "code",
   "execution_count": 2,
   "id": "69a21301-fd16-41c4-9b66-ad44725c9bb2",
   "metadata": {},
   "outputs": [],
   "source": [
    "data = pd.read_csv('CLEANED_gridsearch_1296.csv')\n",
    "#print(f'{data}')\n",
    "data = data.drop(data.columns[0], axis=1)\n",
    "#data = data.transpose()\n",
    "#print(f'{data}')"
   ]
  },
  {
   "cell_type": "markdown",
   "id": "cf69ff15-551f-44ba-a38d-9a6fa348f4e8",
   "metadata": {},
   "source": [
    "## prepare data"
   ]
  },
  {
   "cell_type": "code",
   "execution_count": 3,
   "id": "cf10a13e-3117-4c3c-9f90-48ab12a7c973",
   "metadata": {},
   "outputs": [],
   "source": [
    "X = data.drop('density', axis=1)\n",
    "#print(f'{X}')\n",
    "\n",
    "Y = data['density']\n",
    "#print(f'{Y}')\n",
    "\n",
    "X_train, X_test, Y_train, Y_test = train_test_split(X, Y, test_size=0.05, random_state=29)"
   ]
  },
  {
   "cell_type": "markdown",
   "id": "b65bdaca-c845-438a-9893-789905211303",
   "metadata": {},
   "source": [
    "## create and train the model for different polynomial degrees"
   ]
  },
  {
   "cell_type": "code",
   "execution_count": 4,
   "id": "e1c38cd5-9e47-477a-aa5a-09fa307a6218",
   "metadata": {},
   "outputs": [
    {
     "name": "stdout",
     "output_type": "stream",
     "text": [
      "n =\t1\n",
      "RMSE:\t52.42522147721621\n",
      "R2:\t0.6496548839234035\n",
      "\n",
      "n =\t2\n",
      "RMSE:\t24.8920389893042\n",
      "R2:\t0.9210164835767444\n",
      "\n",
      "n =\t3\n",
      "RMSE:\t8.125065864060847\n",
      "R2:\t0.9915847058640869\n",
      "\n",
      "n =\t4\n",
      "RMSE:\t4.829944789058689\n",
      "R2:\t0.997026281513772\n",
      "\n",
      "n =\t5\n",
      "RMSE:\t3.178864050797818\n",
      "R2:\t0.9987118707858101\n",
      "\n",
      "n =\t6\n",
      "RMSE:\t3.403211726832955\n",
      "R2:\t0.9985236359615218\n",
      "\n",
      "n =\t7\n",
      "RMSE:\t3.6281977003630415\n",
      "R2:\t0.9983219789391298\n",
      "\n",
      "n =\t8\n",
      "RMSE:\t6.107794541553473\n",
      "R2:\t0.9952446295039006\n",
      "\n",
      "n =\t9\n",
      "RMSE:\t9.860716646371339\n",
      "R2:\t0.9876054010638335\n",
      "\n",
      "n =\t10\n",
      "RMSE:\t17.346258463658135\n",
      "R2:\t0.9616445443559942\n",
      "\n",
      "n =\t11\n",
      "RMSE:\t21.353173558058252\n",
      "R2:\t0.9418780227761544\n",
      "\n",
      "n =\t12\n",
      "RMSE:\t27.903553292826597\n",
      "R2:\t0.9007490799544805\n",
      "\n",
      "n =\t13\n",
      "RMSE:\t68.13214137176354\n",
      "R2:\t0.40827543684935574\n",
      "\n",
      "n =\t14\n",
      "RMSE:\t205.973007345942\n",
      "R2:\t-4.407993239029176\n",
      "\n",
      "n =\t15\n",
      "RMSE:\t143.6591578150456\n",
      "R2:\t-1.6307655863935162\n",
      "\n",
      "n =\t16\n",
      "RMSE:\t153.4080169574965\n",
      "R2:\t-1.999933529098818\n",
      "\n",
      "n =\t17\n",
      "RMSE:\t140.2773847672175\n",
      "R2:\t-1.5083656285528946\n",
      "\n",
      "n =\t18\n",
      "RMSE:\t169.93601083701736\n",
      "R2:\t-2.681174104589584\n",
      "\n",
      "n =\t19\n",
      "RMSE:\t174.09946002249998\n",
      "R2:\t-2.8637620114754516\n",
      "\n"
     ]
    }
   ],
   "source": [
    "models = []\n",
    "predictions = []\n",
    "RMSEs = []\n",
    "R2s = []\n",
    "for n in range(1, 20):\n",
    "    ## creation the pipeline\n",
    "    model = make_pipeline(PolynomialFeatures(degree=n), LinearRegression())\n",
    "    \n",
    "    ## train/fit the model\n",
    "    model.fit(X_train, Y_train)\n",
    "    models.append(model)\n",
    "    \n",
    "    ## prediction using the test set\n",
    "    Y_prediction = model.predict(X_test)\n",
    "    predictions.append(Y_prediction)\n",
    "    \n",
    "    ## evaluate with Y_test\n",
    "    rmse = np.sqrt(mean_squared_error(Y_test, Y_prediction))\n",
    "    RMSEs.append(rmse)\n",
    "    r2 = r2_score(Y_test, Y_prediction)\n",
    "    R2s.append(r2)\n",
    "    print(f'n =\\t{n}')\n",
    "    print(f'RMSE:\\t{rmse}')\n",
    "    print(f'R2:\\t{r2}')\n",
    "    print(f'')"
   ]
  },
  {
   "cell_type": "markdown",
   "id": "3a97f677-ce51-455c-8ad8-3b7fd6c777ce",
   "metadata": {},
   "source": [
    "## Result"
   ]
  },
  {
   "cell_type": "code",
   "execution_count": 5,
   "id": "566b3e3c-d25b-4a7f-b437-c34964553295",
   "metadata": {},
   "outputs": [
    {
     "data": {
      "image/png": "[encoded data removed]",
      "text/plain": [
       "<Figure size 640x480 with 2 Axes>"
      ]
     },
     "metadata": {},
     "output_type": "display_data"
    }
   ],
   "source": [
    "from matplotlib import pyplot as plt\n",
    "#print(f'{RMSEs}')\n",
    "#print(f'{R2s}')\n",
    "\n",
    "fig, ax1 = plt.subplots()\n",
    "color = 'tab:blue'\n",
    "ax1.set_xlabel('Polynomial Degree n')\n",
    "ax1.set_ylabel('RMSE', color=color)\n",
    "ax1.plot(RMSEs, 'x', color=color, label='RMSE')\n",
    "ax1.tick_params(axis='y', labelcolor=color)\n",
    "\n",
    "ax2 = ax1.twinx()\n",
    "color='tab:orange'\n",
    "ax2.set_ylabel('R2', color=color)\n",
    "ax2.plot(R2s, 'o', color=color, label='R2')\n",
    "ax2.tick_params(axis='y', labelcolor=color)\n",
    "\n",
    "fig.tight_layout()\n",
    "plt.show()\n"
   ]
  },
  {
   "cell_type": "markdown",
   "id": "7bc03713-054f-40a5-b68b-f7c0dcb7485d",
   "metadata": {},
   "source": [
    "## Results"
   ]
  },
  {
   "cell_type": "markdown",
   "id": "f6dc7795-45ed-49d9-a68f-8883cbf99d2c",
   "metadata": {},
   "source": [
    "best fit between n = 3 and n = 6"
   ]
  },
  {
   "cell_type": "code",
   "execution_count": null,
   "id": "55b4730c-3158-4e1f-a1e2-04f088f6f9bb",
   "metadata": {},
   "outputs": [],
   "source": []
  }
 ],
 "metadata": {
  "kernelspec": {
   "display_name": "Python 3 (ipykernel)",
   "language": "python",
   "name": "python3"
  },
  "language_info": {
   "codemirror_mode": {
    "name": "ipython",
    "version": 3
   },
   "file_extension": ".py",
   "mimetype": "text/x-python",
   "name": "python",
   "nbconvert_exporter": "python",
   "pygments_lexer": "ipython3",
   "version": "3.13.0"
  }
 },
 "nbformat": 4,
 "nbformat_minor": 5
}
