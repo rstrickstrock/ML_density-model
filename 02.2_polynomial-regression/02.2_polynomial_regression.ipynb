{
 "cells": [
  {
   "cell_type": "markdown",
   "id": "f6fef9f8-ba9e-498a-b26f-3d379cae2f98",
   "metadata": {},
   "source": [
    "# Polynomial Regression Model"
   ]
  },
  {
   "cell_type": "markdown",
   "id": "00cce2a9-60e5-4025-9031-ac6e86376d40",
   "metadata": {},
   "source": [
    "## import libs"
   ]
  },
  {
   "cell_type": "code",
   "execution_count": 5,
   "id": "1dc5d9d1-a53b-4cea-a79c-2869e20421f1",
   "metadata": {},
   "outputs": [],
   "source": [
    "from sklearn.model_selection import train_test_split\n",
    "from sklearn.linear_model import LinearRegression\n",
    "from sklearn.metrics import mean_squared_error, r2_score\n",
    "from sklearn.preprocessing import PolynomialFeatures\n",
    "from sklearn.pipeline import make_pipeline\n",
    "\n",
    "import numpy as np\n",
    "import pandas as pd"
   ]
  },
  {
   "cell_type": "markdown",
   "id": "d482d20d-af65-4748-acd5-bcf644835a3f",
   "metadata": {},
   "source": [
    "## read data base"
   ]
  },
  {
   "cell_type": "code",
   "execution_count": 2,
   "id": "69a21301-fd16-41c4-9b66-ad44725c9bb2",
   "metadata": {},
   "outputs": [
    {
     "name": "stdout",
     "output_type": "stream",
     "text": [
      "          SigC      SigH      EpsC      EpsH  density\n",
      "0     0.329511  0.074231  1.036268  0.062599  891.797\n",
      "1     0.193948  0.136800  0.751676  0.037376  664.747\n",
      "2     0.230588  0.235899  0.596203  0.100129  682.448\n",
      "3     0.242166  0.148891  0.406759  0.087550  688.667\n",
      "4     0.128757  0.190416  0.989670  0.034993  660.728\n",
      "...        ...       ...       ...       ...      ...\n",
      "2000  0.128595  0.136526  0.645525  0.075425  651.258\n",
      "2001  0.242035  0.235637  0.735539  0.137124  708.349\n",
      "2002  0.230760  0.148096  1.005841  0.111508  714.162\n",
      "2003  0.066912  0.095994  0.782125  0.108488  651.054\n",
      "2004  0.329646  0.259110  0.444702  0.043977  707.088\n",
      "\n",
      "[2005 rows x 5 columns]\n"
     ]
    }
   ],
   "source": [
    "data = pd.read_csv('CLEANED_sobolsampling-2048.csv')\n",
    "#print(f'{data}')\n",
    "data = data.drop(data.columns[0], axis=1)\n",
    "#data = data.transpose()\n",
    "print(f'{data}')"
   ]
  },
  {
   "cell_type": "markdown",
   "id": "cf69ff15-551f-44ba-a38d-9a6fa348f4e8",
   "metadata": {},
   "source": [
    "## prepare data"
   ]
  },
  {
   "cell_type": "code",
   "execution_count": 3,
   "id": "cf10a13e-3117-4c3c-9f90-48ab12a7c973",
   "metadata": {},
   "outputs": [
    {
     "name": "stdout",
     "output_type": "stream",
     "text": [
      "          SigC      SigH      EpsC      EpsH\n",
      "0     0.329511  0.074231  1.036268  0.062599\n",
      "1     0.193948  0.136800  0.751676  0.037376\n",
      "2     0.230588  0.235899  0.596203  0.100129\n",
      "3     0.242166  0.148891  0.406759  0.087550\n",
      "4     0.128757  0.190416  0.989670  0.034993\n",
      "...        ...       ...       ...       ...\n",
      "2000  0.128595  0.136526  0.645525  0.075425\n",
      "2001  0.242035  0.235637  0.735539  0.137124\n",
      "2002  0.230760  0.148096  1.005841  0.111508\n",
      "2003  0.066912  0.095994  0.782125  0.108488\n",
      "2004  0.329646  0.259110  0.444702  0.043977\n",
      "\n",
      "[2005 rows x 4 columns]\n",
      "0       891.797\n",
      "1       664.747\n",
      "2       682.448\n",
      "3       688.667\n",
      "4       660.728\n",
      "         ...   \n",
      "2000    651.258\n",
      "2001    708.349\n",
      "2002    714.162\n",
      "2003    651.054\n",
      "2004    707.088\n",
      "Name: density, Length: 2005, dtype: float64\n"
     ]
    }
   ],
   "source": [
    "X = data.drop('density', axis=1)\n",
    "print(f'{X}')\n",
    "\n",
    "Y = data['density']\n",
    "print(f'{Y}')\n",
    "\n",
    "X_train, X_test, Y_train, Y_test = train_test_split(X, Y, test_size=0.05, random_state=29)"
   ]
  },
  {
   "cell_type": "markdown",
   "id": "b65bdaca-c845-438a-9893-789905211303",
   "metadata": {},
   "source": [
    "## create and train the model"
   ]
  },
  {
   "cell_type": "code",
   "execution_count": 6,
   "id": "e1c38cd5-9e47-477a-aa5a-09fa307a6218",
   "metadata": {},
   "outputs": [
    {
     "name": "stdout",
     "output_type": "stream",
     "text": [
      "RMSE: 7.230447578639616\n",
      "R2: 0.9958662031055541\n"
     ]
    }
   ],
   "source": [
    "## creation the pipeline\n",
    "model = make_pipeline(PolynomialFeatures(degree=8), LinearRegression())\n",
    "\n",
    "## train/fit the model\n",
    "model.fit(X_train, Y_train)\n",
    "\n",
    "## prediction using the test set\n",
    "Y_prediction = model.predict(X_test)\n",
    "\n",
    "## evaluate with Y_test\n",
    "rmse = np.sqrt(mean_squared_error(Y_test, Y_prediction))\n",
    "r2 = r2_score(Y_test, Y_prediction)\n",
    "\n",
    "print(f'RMSE: {rmse}')\n",
    "print(f'R2: {r2}')"
   ]
  },
  {
   "cell_type": "markdown",
   "id": "3a97f677-ce51-455c-8ad8-3b7fd6c777ce",
   "metadata": {},
   "source": [
    "## Result"
   ]
  },
  {
   "cell_type": "markdown",
   "id": "790af9fb-3c10-4feb-bfa4-d3fe30e57ddd",
   "metadata": {},
   "source": [
    "- RMSE: 7.230447578639616\n",
    "- R2: 0.9958662031055541\n",
    "\n",
    "  genereally: 0 <= R2 <= 1, with R2 -> 1: better matching of Y_prediction to Y_test. Pretty good?\n",
    "  how about higher/lower degrees?"
   ]
  },
  {
   "cell_type": "code",
   "execution_count": 7,
   "id": "ed3cb2af-7e25-47fd-bdd4-29044ecbbf84",
   "metadata": {},
   "outputs": [
    {
     "name": "stdout",
     "output_type": "stream",
     "text": [
      "Y_test:\n",
      "1659    659.137\n",
      "1424    688.522\n",
      "880     660.425\n",
      "30      480.165\n",
      "1373    637.540\n",
      "         ...   \n",
      "1273    652.283\n",
      "1447    717.095\n",
      "1451    838.270\n",
      "977     340.499\n",
      "459     856.005\n",
      "Name: density, Length: 101, dtype: float64\n",
      "Y_prediction:\n",
      "[658.8642895  686.74013955 660.39053593 479.61465791 634.93666007\n",
      " 771.64918106 552.34976631 409.28779996 661.58162803 664.13368648\n",
      " 757.73301915 670.12291785 694.99508331 793.94891023 824.24376015\n",
      " 652.60038798 652.86713005 664.10778164 685.12283908 648.80135188\n",
      " 727.55544386 668.51014288 650.96996721 482.69122974 649.18518635\n",
      " 405.79315639 653.78704361 649.00007481 670.21569238 595.99777836\n",
      " 695.01977088 688.02774452 475.33255921 809.83353074 798.82166454\n",
      " 829.69057816 716.92491793 665.29375252 645.15325613 688.26841468\n",
      " 670.64411858 647.67028548 333.08031198 789.67824944 800.16163968\n",
      " 696.8366267  649.62014311 678.67022494 654.45913793 876.38599345\n",
      " 647.33230804 675.2319124  670.85809917 649.10740629 653.54614741\n",
      " 528.0799031  656.58594339 649.56162376 369.63563962 718.27667325\n",
      " 551.21035899 644.64398167 810.87741205 645.38209026 810.81188735\n",
      " 664.24045618 330.54915359 689.87807493 605.81477261 450.67893035\n",
      " 741.79353151 465.50760105 698.90403153 740.92447239 680.08097373\n",
      " 831.18241504 668.09620973 670.38738989 650.35600164 875.41040432\n",
      " 671.90780681 688.25003358 672.82692978 799.33932273 649.08339415\n",
      " 458.6562393  608.36178799 650.63835508 647.86000224 581.26984877\n",
      " 866.60928436 654.57239781 754.96566804 653.17887107 691.42677976\n",
      " 672.66232066 655.77550067 715.52072144 839.92818101 343.02495363\n",
      " 863.71472141]\n"
     ]
    }
   ],
   "source": [
    "print(f'Y_test:\\n{Y_test}')\n",
    "print(f'Y_prediction:\\n{Y_prediction}')"
   ]
  },
  {
   "cell_type": "code",
   "execution_count": null,
   "id": "3a4a59cc-6bb7-4d6d-8e8d-63d70d787094",
   "metadata": {},
   "outputs": [],
   "source": []
  }
 ],
 "metadata": {
  "kernelspec": {
   "display_name": "Python 3",
   "language": "python",
   "name": "python3"
  },
  "language_info": {
   "codemirror_mode": {
    "name": "ipython",
    "version": 3
   },
   "file_extension": ".py",
   "mimetype": "text/x-python",
   "name": "python",
   "nbconvert_exporter": "python",
   "pygments_lexer": "ipython3",
   "version": "3.11.5"
  }
 },
 "nbformat": 4,
 "nbformat_minor": 5
}
