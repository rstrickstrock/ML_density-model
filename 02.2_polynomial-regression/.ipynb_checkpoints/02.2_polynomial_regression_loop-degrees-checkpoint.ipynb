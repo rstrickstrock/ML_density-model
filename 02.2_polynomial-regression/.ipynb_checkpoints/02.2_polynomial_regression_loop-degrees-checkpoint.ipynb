{
 "cells": [
  {
   "cell_type": "markdown",
   "id": "f6fef9f8-ba9e-498a-b26f-3d379cae2f98",
   "metadata": {},
   "source": [
    "# Polynomial Regression Model"
   ]
  },
  {
   "cell_type": "markdown",
   "id": "00cce2a9-60e5-4025-9031-ac6e86376d40",
   "metadata": {},
   "source": [
    "## import libs"
   ]
  },
  {
   "cell_type": "code",
   "execution_count": 4,
   "id": "1dc5d9d1-a53b-4cea-a79c-2869e20421f1",
   "metadata": {},
   "outputs": [],
   "source": [
    "from sklearn.model_selection import train_test_split\n",
    "from sklearn.linear_model import LinearRegression\n",
    "from sklearn.metrics import mean_squared_error, r2_score\n",
    "from sklearn.preprocessing import PolynomialFeatures\n",
    "from sklearn.pipeline import make_pipeline\n",
    "\n",
    "import numpy as np\n",
    "import pandas as pd"
   ]
  },
  {
   "cell_type": "markdown",
   "id": "d482d20d-af65-4748-acd5-bcf644835a3f",
   "metadata": {},
   "source": [
    "## read data base"
   ]
  },
  {
   "cell_type": "code",
   "execution_count": 1,
   "id": "69a21301-fd16-41c4-9b66-ad44725c9bb2",
   "metadata": {},
   "outputs": [
    {
     "ename": "NameError",
     "evalue": "name 'pd' is not defined",
     "output_type": "error",
     "traceback": [
      "\u001b[0;31m---------------------------------------------------------------------------\u001b[0m",
      "\u001b[0;31mNameError\u001b[0m                                 Traceback (most recent call last)",
      "Cell \u001b[0;32mIn[1], line 1\u001b[0m\n\u001b[0;32m----> 1\u001b[0m data \u001b[38;5;241m=\u001b[39m pd\u001b[38;5;241m.\u001b[39mread_csv(\u001b[38;5;124m'\u001b[39m\u001b[38;5;124mCLEANED_sobolsampling-2048.csv\u001b[39m\u001b[38;5;124m'\u001b[39m)\n\u001b[1;32m      2\u001b[0m \u001b[38;5;66;03m#print(f'{data}')\u001b[39;00m\n\u001b[1;32m      3\u001b[0m data \u001b[38;5;241m=\u001b[39m data\u001b[38;5;241m.\u001b[39mdrop(data\u001b[38;5;241m.\u001b[39mcolumns[\u001b[38;5;241m0\u001b[39m], axis\u001b[38;5;241m=\u001b[39m\u001b[38;5;241m1\u001b[39m)\n",
      "\u001b[0;31mNameError\u001b[0m: name 'pd' is not defined"
     ]
    }
   ],
   "source": [
    "data = pd.read_csv('CLEANED_sobolsampling-2048.csv')\n",
    "#print(f'{data}')\n",
    "data = data.drop(data.columns[0], axis=1)\n",
    "#data = data.transpose()\n",
    "#print(f'{data}')"
   ]
  },
  {
   "cell_type": "markdown",
   "id": "cf69ff15-551f-44ba-a38d-9a6fa348f4e8",
   "metadata": {},
   "source": [
    "## prepare data"
   ]
  },
  {
   "cell_type": "code",
   "execution_count": 1,
   "id": "cf10a13e-3117-4c3c-9f90-48ab12a7c973",
   "metadata": {},
   "outputs": [
    {
     "ename": "NameError",
     "evalue": "name 'data' is not defined",
     "output_type": "error",
     "traceback": [
      "\u001b[0;31m---------------------------------------------------------------------------\u001b[0m",
      "\u001b[0;31mNameError\u001b[0m                                 Traceback (most recent call last)",
      "Cell \u001b[0;32mIn[1], line 1\u001b[0m\n\u001b[0;32m----> 1\u001b[0m X \u001b[38;5;241m=\u001b[39m data\u001b[38;5;241m.\u001b[39mdrop(\u001b[38;5;124m'\u001b[39m\u001b[38;5;124mdensity\u001b[39m\u001b[38;5;124m'\u001b[39m, axis\u001b[38;5;241m=\u001b[39m\u001b[38;5;241m1\u001b[39m)\n\u001b[1;32m      2\u001b[0m \u001b[38;5;66;03m#print(f'{X}')\u001b[39;00m\n\u001b[1;32m      4\u001b[0m Y \u001b[38;5;241m=\u001b[39m data[\u001b[38;5;124m'\u001b[39m\u001b[38;5;124mdensity\u001b[39m\u001b[38;5;124m'\u001b[39m]\n",
      "\u001b[0;31mNameError\u001b[0m: name 'data' is not defined"
     ]
    }
   ],
   "source": [
    "X = data.drop('density', axis=1)\n",
    "#print(f'{X}')\n",
    "\n",
    "Y = data['density']\n",
    "#print(f'{Y}')\n",
    "\n",
    "X_train, X_test, Y_train, Y_test = train_test_split(X, Y, test_size=0.05, random_state=29)"
   ]
  },
  {
   "cell_type": "markdown",
   "id": "b65bdaca-c845-438a-9893-789905211303",
   "metadata": {},
   "source": [
    "## create and train the model for different polynomial degrees"
   ]
  },
  {
   "cell_type": "code",
   "execution_count": 6,
   "id": "e1c38cd5-9e47-477a-aa5a-09fa307a6218",
   "metadata": {},
   "outputs": [
    {
     "name": "stdout",
     "output_type": "stream",
     "text": [
      "RMSE: 7.230447578639616\n",
      "R2: 0.9958662031055541\n"
     ]
    }
   ],
   "source": [
    "models = []\n",
    "predictions = []\n",
    "RMSEs = []\n",
    "R2s = []\n",
    "for n in range(1, 20):\n",
    "    ## creation the pipeline\n",
    "    model = make_pipeline(PolynomialFeatures(degree=n), LinearRegression())\n",
    "    \n",
    "    ## train/fit the model\n",
    "    model.fit(X_train, Y_train)\n",
    "    models.append(model)\n",
    "    \n",
    "    ## prediction using the test set\n",
    "    Y_prediction = model.predict(X_test)\n",
    "    predictions.append(Y_prediction)\n",
    "    \n",
    "    ## evaluate with Y_test\n",
    "    rmse = np.sqrt(mean_squared_error(Y_test, Y_prediction))\n",
    "    RMSEs.append(rmse)\n",
    "    r2 = r2_score(Y_test, Y_prediction)\n",
    "    R2s.append(r2)\n",
    "    print(f'n = {n}')\n",
    "    print(f'RMSE: {rmse}')\n",
    "    print(f'R2: {r2}')\n",
    "    print(f'')"
   ]
  },
  {
   "cell_type": "markdown",
   "id": "3a97f677-ce51-455c-8ad8-3b7fd6c777ce",
   "metadata": {},
   "source": [
    "## Result"
   ]
  },
  {
   "cell_type": "markdown",
   "id": "790af9fb-3c10-4feb-bfa4-d3fe30e57ddd",
   "metadata": {},
   "source": []
  }
 ],
 "metadata": {
  "kernelspec": {
   "display_name": "Python 3",
   "language": "python",
   "name": "python3"
  },
  "language_info": {
   "codemirror_mode": {
    "name": "ipython",
    "version": 3
   },
   "file_extension": ".py",
   "mimetype": "text/x-python",
   "name": "python",
   "nbconvert_exporter": "python",
   "pygments_lexer": "ipython3",
   "version": "3.11.5"
  }
 },
 "nbformat": 4,
 "nbformat_minor": 5
}
