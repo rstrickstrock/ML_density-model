{
 "cells": [
  {
   "cell_type": "markdown",
   "id": "3973fa12-d0f0-4661-a688-6a3dd0ff5984",
   "metadata": {},
   "source": [
    "# Polynomial Regression Model"
   ]
  },
  {
   "cell_type": "markdown",
   "id": "f6333881-4deb-44f3-a7d8-b22f48e143e0",
   "metadata": {},
   "source": [
    "change size of the test subset"
   ]
  },
  {
   "cell_type": "markdown",
   "id": "d8d63b0f-78ed-4c8d-a913-5ef91b32bfb7",
   "metadata": {},
   "source": [
    "## import libs"
   ]
  },
  {
   "cell_type": "code",
   "execution_count": 1,
   "id": "311ace21-f49b-4bea-8e96-2a179200d386",
   "metadata": {},
   "outputs": [],
   "source": [
    "from sklearn.model_selection import train_test_split\n",
    "from sklearn.linear_model import LinearRegression\n",
    "from sklearn.metrics import mean_squared_error, r2_score\n",
    "from sklearn.preprocessing import PolynomialFeatures\n",
    "from sklearn.pipeline import make_pipeline\n",
    "\n",
    "import numpy as np\n",
    "import pandas as pd\n",
    "from matplotlib import pyplot as plt"
   ]
  },
  {
   "cell_type": "markdown",
   "id": "0f1d38bc-5f9b-42e5-8874-631423691439",
   "metadata": {},
   "source": [
    "## read data base"
   ]
  },
  {
   "cell_type": "code",
   "execution_count": 2,
   "id": "263fd87c-ca85-41aa-9602-9c8f64545896",
   "metadata": {},
   "outputs": [],
   "source": [
    "data = pd.read_csv('CLEANED_sobolsampling-2048.csv')\n",
    "#print(f'{data}')\n",
    "data = data.drop(data.columns[0], axis=1)\n",
    "#data = data.transpose()\n",
    "#print(f'{data}')"
   ]
  },
  {
   "cell_type": "markdown",
   "id": "13053682-4ac2-4872-96c0-869638df4d8e",
   "metadata": {},
   "source": [
    "## prepare data"
   ]
  },
  {
   "cell_type": "code",
   "execution_count": 10,
   "id": "134d592c-8629-493e-a4c4-ef3237ce3511",
   "metadata": {},
   "outputs": [],
   "source": [
    "X = data.drop('density', axis=1)\n",
    "#print(f'{X}')\n",
    "\n",
    "Y = data['density']\n",
    "#print(f'{Y}')\n",
    "sizes = np.arange(0.01, 1.0, 0.01, dtype=float)\n",
    "#print(f'{sizes}')\n",
    "X_TRAINs = []\n",
    "X_TESTs = []\n",
    "Y_TRAINs = []\n",
    "Y_TESTs = []\n",
    "for size in sizes:\n",
    "    # create 30 different sets (using different random_states) for each test/train quotient\n",
    "    THISXTrain = []\n",
    "    THISXTest = []\n",
    "    THISYTrain = []\n",
    "    THISYTest = []\n",
    "    for i in range(0,30):\n",
    "        X_train, X_test, Y_train, Y_test = train_test_split(X, Y, test_size=size.round(2))#, random_state=29)\n",
    "        THISXTrain.append(X_train)\n",
    "        THISXTest.append(X_test)\n",
    "        THISYTrain.append(Y_train)\n",
    "        THISYTest.append(Y_test)\n",
    "        \n",
    "    X_TRAINs.append(THISXTrain)\n",
    "    X_TESTs.append(THISXTest)\n",
    "    Y_TRAINs.append(THISYTrain)\n",
    "    Y_TESTs.append(THISYTest)"
   ]
  },
  {
   "cell_type": "markdown",
   "id": "693aeb8f-53ae-464f-9da3-6477ba29867b",
   "metadata": {},
   "source": [
    "## create and train the models"
   ]
  },
  {
   "cell_type": "code",
   "execution_count": 12,
   "id": "c406bc74-3ec6-4510-9984-5af9e89bb95a",
   "metadata": {},
   "outputs": [
    {
     "name": "stdout",
     "output_type": "stream",
     "text": [
      "Using test_size=0.01:\n",
      "Using test_size=0.02:\n",
      "Using test_size=0.03:\n",
      "Using test_size=0.04:\n",
      "Using test_size=0.05:\n",
      "Using test_size=0.06:\n",
      "Using test_size=0.07:\n",
      "Using test_size=0.08:\n",
      "Using test_size=0.09:\n",
      "Using test_size=0.1:\n",
      "Using test_size=0.11:\n",
      "Using test_size=0.12:\n",
      "Using test_size=0.13:\n",
      "Using test_size=0.14:\n",
      "Using test_size=0.15:\n",
      "Using test_size=0.16:\n",
      "Using test_size=0.17:\n",
      "Using test_size=0.18:\n",
      "Using test_size=0.19:\n",
      "Using test_size=0.2:\n",
      "Using test_size=0.21:\n",
      "Using test_size=0.22:\n",
      "Using test_size=0.23:\n",
      "Using test_size=0.24:\n",
      "Using test_size=0.25:\n",
      "Using test_size=0.26:\n",
      "Using test_size=0.27:\n",
      "Using test_size=0.28:\n",
      "Using test_size=0.29:\n",
      "Using test_size=0.3:\n",
      "Using test_size=0.31:\n",
      "Using test_size=0.32:\n",
      "Using test_size=0.33:\n",
      "Using test_size=0.34:\n",
      "Using test_size=0.35:\n",
      "Using test_size=0.36:\n",
      "Using test_size=0.37:\n",
      "Using test_size=0.38:\n",
      "Using test_size=0.39:\n",
      "Using test_size=0.4:\n",
      "Using test_size=0.41:\n",
      "Using test_size=0.42:\n",
      "Using test_size=0.43:\n",
      "Using test_size=0.44:\n",
      "Using test_size=0.45:\n",
      "Using test_size=0.46:\n",
      "Using test_size=0.47:\n",
      "Using test_size=0.48:\n",
      "Using test_size=0.49:\n",
      "Using test_size=0.5:\n",
      "Using test_size=0.51:\n",
      "Using test_size=0.52:\n",
      "Using test_size=0.53:\n",
      "Using test_size=0.54:\n",
      "Using test_size=0.55:\n",
      "Using test_size=0.56:\n",
      "Using test_size=0.57:\n",
      "Using test_size=0.58:\n",
      "Using test_size=0.59:\n",
      "Using test_size=0.6:\n",
      "Using test_size=0.61:\n",
      "Using test_size=0.62:\n",
      "Using test_size=0.63:\n",
      "Using test_size=0.64:\n",
      "Using test_size=0.65:\n",
      "Using test_size=0.66:\n",
      "Using test_size=0.67:\n",
      "Using test_size=0.68:\n",
      "Using test_size=0.69:\n",
      "Using test_size=0.7:\n",
      "Using test_size=0.71:\n",
      "Using test_size=0.72:\n",
      "Using test_size=0.73:\n",
      "Using test_size=0.74:\n",
      "Using test_size=0.75:\n",
      "Using test_size=0.76:\n",
      "Using test_size=0.77:\n",
      "Using test_size=0.78:\n",
      "Using test_size=0.79:\n",
      "Using test_size=0.8:\n",
      "Using test_size=0.81:\n",
      "Using test_size=0.82:\n",
      "Using test_size=0.83:\n",
      "Using test_size=0.84:\n",
      "Using test_size=0.85:\n",
      "Using test_size=0.86:\n",
      "Using test_size=0.87:\n",
      "Using test_size=0.88:\n",
      "Using test_size=0.89:\n",
      "Using test_size=0.9:\n",
      "Using test_size=0.91:\n",
      "Using test_size=0.92:\n",
      "Using test_size=0.93:\n",
      "Using test_size=0.94:\n",
      "Using test_size=0.95:\n",
      "Using test_size=0.96:\n",
      "Using test_size=0.97:\n",
      "Using test_size=0.98:\n",
      "Using test_size=0.99:\n"
     ]
    }
   ],
   "source": [
    "MODELs = []\n",
    "Y_PREDICTIONs = []\n",
    "RMSEs = []\n",
    "R2s = []\n",
    "#print(f'{len(sizes)}')\n",
    "#print(f'{len(X_TRAINs)}')\n",
    "#print(f'{len(X_TESTs)}')\n",
    "#print(f'{len(Y_TRAINs)}')\n",
    "#print(f'{len(Y_TESTs)}')\n",
    "\n",
    "for i in range(0, len(sizes)):\n",
    "    #print(sizes[i].round(2))\n",
    "    ## create and train model\n",
    "\n",
    "    ## run 30 different trainings and average over all of them\n",
    "    THIS_PREDICTIONS = []\n",
    "    THIS_RMSEs = []\n",
    "    THIS_R2s = []\n",
    "    for k in range(0, len(X_TRAINs[0])):\n",
    "        model = make_pipeline(PolynomialFeatures(degree=6), LinearRegression())\n",
    "        model.fit(X_TRAINs[i][k], Y_TRAINs[i][k])\n",
    "        #MODELs.append(model)\n",
    "    \n",
    "        ## create model's predictions\n",
    "        Y_prediction = model.predict(X_TESTs[i][k])\n",
    "        THIS_PREDICTIONS.append(Y_prediction)\n",
    "        #Y_PREDICTIONs.append(Y_prediction)\n",
    "    \n",
    "        ## evaluate\n",
    "        rmse = np.sqrt(mean_squared_error(Y_TESTs[i][k], Y_prediction))\n",
    "        r2 = r2_score(Y_TESTs[i][k], Y_prediction)\n",
    "        THIS_RMSEs.append(rmse)\n",
    "        THIS_R2s.append(r2)\n",
    "    ## calc averages for RMSE and R2\n",
    "    avg_RMSE = 0\n",
    "    for rmse in THIS_RMSEs:\n",
    "        avg_RMSE = avg_RMSE + rmse\n",
    "    avg_RMSE = avg_RMSE/len(THIS_RMSEs)\n",
    "    RMSEs.append(avg_RMSE)\n",
    "\n",
    "    avg_R2 = 0\n",
    "    for r2 in THIS_R2s:\n",
    "        avg_R2 = avg_R2 + r2\n",
    "    avg_R2 = avg_R2/len(THIS_R2s)\n",
    "    R2s.append(avg_R2)\n",
    "    \n",
    "    print(f'Using test_size={sizes[i].round(2)}:')\n",
    "    #print(f' avg RMSE: {avg_RMSE}')\n",
    "    #print(f'avg R2: {avg_R2}')\n",
    "    #print(f'')"
   ]
  },
  {
   "cell_type": "markdown",
   "id": "3b7ce41d-361e-4f6d-a15c-5641c73227a5",
   "metadata": {},
   "source": [
    "## plots"
   ]
  },
  {
   "cell_type": "code",
   "execution_count": 13,
   "id": "743df3d3-32d9-490d-92d9-f4ca82fc2b98",
   "metadata": {},
   "outputs": [
    {
     "data": {
      "image/png": "[encoded data removed]",
      "text/plain": [
       "<Figure size 640x480 with 2 Axes>"
      ]
     },
     "metadata": {},
     "output_type": "display_data"
    }
   ],
   "source": [
    "fig, ax1 = plt.subplots()\n",
    "ax1.plot(sizes, RMSEs, '-x', color='blue', label='RMSE')\n",
    "ax1.set_xlabel('relative portion of the whole database used for testing, 1-x = rel. portion used for training')\n",
    "ax1.set_ylabel('RMSE', color='blue')\n",
    "\n",
    "ax2 = ax1.twinx()\n",
    "ax2.plot(sizes, R2s, '-o', color='orange', label='R2')\n",
    "ax2.set_ylabel('R2', color='orange')\n",
    "\n",
    "#plt.legend()\n",
    "plt.show()"
   ]
  },
  {
   "cell_type": "code",
   "execution_count": null,
   "id": "9d8b51ef-9a15-49c6-b7ea-63833f2f41fe",
   "metadata": {},
   "outputs": [],
   "source": []
  }
 ],
 "metadata": {
  "kernelspec": {
   "display_name": "Python 3",
   "language": "python",
   "name": "python3"
  },
  "language_info": {
   "codemirror_mode": {
    "name": "ipython",
    "version": 3
   },
   "file_extension": ".py",
   "mimetype": "text/x-python",
   "name": "python",
   "nbconvert_exporter": "python",
   "pygments_lexer": "ipython3",
   "version": "3.11.5"
  }
 },
 "nbformat": 4,
 "nbformat_minor": 5
}
