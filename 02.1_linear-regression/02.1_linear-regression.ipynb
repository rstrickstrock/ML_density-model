{
 "cells": [
  {
   "cell_type": "markdown",
   "id": "a57d6c01-853f-404e-b6c0-fc88293baf9a",
   "metadata": {},
   "source": [
    "# Linear Regression Model"
   ]
  },
  {
   "cell_type": "markdown",
   "id": "4f6b6218-23b9-4b3e-b25b-d96beba24b8d",
   "metadata": {},
   "source": [
    "## import libs"
   ]
  },
  {
   "cell_type": "code",
   "execution_count": 3,
   "id": "49be3267-eedb-484c-906d-225a755e56f6",
   "metadata": {},
   "outputs": [],
   "source": [
    "from sklearn.model_selection import train_test_split\n",
    "from sklearn.linear_model import LinearRegression\n",
    "from sklearn.metrics import mean_squared_error, r2_score\n",
    "import numpy as np\n",
    "import pandas as pd"
   ]
  },
  {
   "cell_type": "markdown",
   "id": "85ff9cce-88a5-444b-b030-85713c795a3f",
   "metadata": {},
   "source": [
    "## read data base"
   ]
  },
  {
   "cell_type": "code",
   "execution_count": 50,
   "id": "2289398c-2526-47a5-a3b4-08999daf2479",
   "metadata": {},
   "outputs": [
    {
     "name": "stdout",
     "output_type": "stream",
     "text": [
      "#         SigC      SigH      EpsC      EpsH     density  density_err\n",
      "1     0.329511  0.074231  1.036268  0.062599  891.797000        0.820\n",
      "2     0.066754  0.316262  0.205940  0.119844    0.183657        0.009\n",
      "3     0.193948  0.136800  0.751676  0.037376  664.747000        1.900\n",
      "4     0.230588  0.235899  0.596203  0.100129  682.448000        0.380\n",
      "5     0.242166  0.148891  0.406759  0.087550  688.667000        1.800\n",
      "...        ...       ...       ...       ...         ...          ...\n",
      "2044  0.242035  0.235637  0.735539  0.137124  708.349000        0.690\n",
      "2045  0.230760  0.148096  1.005841  0.111508  714.162000        1.200\n",
      "2046  0.194069  0.189609  0.357464  0.056020    0.000000      100.000\n",
      "2047  0.066912  0.095994  0.782125  0.108488  651.054000        1.800\n",
      "2048  0.329646  0.259110  0.444702  0.043977  707.088000        0.470\n",
      "\n",
      "[2048 rows x 6 columns]\n",
      "          SigC      SigH      EpsC      EpsH  density\n",
      "0     0.329511  0.074231  1.036268  0.062599  891.797\n",
      "1     0.193948  0.136800  0.751676  0.037376  664.747\n",
      "2     0.230588  0.235899  0.596203  0.100129  682.448\n",
      "3     0.242166  0.148891  0.406759  0.087550  688.667\n",
      "4     0.128757  0.190416  0.989670  0.034993  660.728\n",
      "...        ...       ...       ...       ...      ...\n",
      "2000  0.128595  0.136526  0.645525  0.075425  651.258\n",
      "2001  0.242035  0.235637  0.735539  0.137124  708.349\n",
      "2002  0.230760  0.148096  1.005841  0.111508  714.162\n",
      "2003  0.066912  0.095994  0.782125  0.108488  651.054\n",
      "2004  0.329646  0.259110  0.444702  0.043977  707.088\n",
      "\n",
      "[2005 rows x 5 columns]\n"
     ]
    }
   ],
   "source": [
    "data_init = pd.read_csv('RESULTS_sobolsampling-2048.csv', index_col=1)\n",
    "#print(f'{data_init}')\n",
    "data_init = data_init.drop(data_init.columns[0], axis=1)\n",
    "data_init = data_init.transpose()\n",
    "print(f'{data_init}')\n",
    "\n",
    "data = pd.read_csv('CLEANED_sobolsampling-2048.csv')\n",
    "#print(f'{data}')\n",
    "data = data.drop(data.columns[0], axis=1)\n",
    "#data = data.transpose()\n",
    "print(f'{data}')"
   ]
  },
  {
   "cell_type": "markdown",
   "id": "6bcd6d62-674d-4856-8aba-54e5b791810c",
   "metadata": {},
   "source": [
    "## prepare data"
   ]
  },
  {
   "cell_type": "code",
   "execution_count": 52,
   "id": "7250e452-5954-4320-a217-9f1a4635ba1a",
   "metadata": {},
   "outputs": [
    {
     "name": "stdout",
     "output_type": "stream",
     "text": [
      "#         SigC      SigH      EpsC      EpsH\n",
      "1     0.329511  0.074231  1.036268  0.062599\n",
      "2     0.066754  0.316262  0.205940  0.119844\n",
      "3     0.193948  0.136800  0.751676  0.037376\n",
      "4     0.230588  0.235899  0.596203  0.100129\n",
      "5     0.242166  0.148891  0.406759  0.087550\n",
      "...        ...       ...       ...       ...\n",
      "2044  0.242035  0.235637  0.735539  0.137124\n",
      "2045  0.230760  0.148096  1.005841  0.111508\n",
      "2046  0.194069  0.189609  0.357464  0.056020\n",
      "2047  0.066912  0.095994  0.782125  0.108488\n",
      "2048  0.329646  0.259110  0.444702  0.043977\n",
      "\n",
      "[2048 rows x 4 columns]\n",
      "1       891.797000\n",
      "2         0.183657\n",
      "3       664.747000\n",
      "4       682.448000\n",
      "5       688.667000\n",
      "           ...    \n",
      "2044    708.349000\n",
      "2045    714.162000\n",
      "2046      0.000000\n",
      "2047    651.054000\n",
      "2048    707.088000\n",
      "Name: density, Length: 2048, dtype: float64\n",
      "          SigC      SigH      EpsC      EpsH\n",
      "0     0.329511  0.074231  1.036268  0.062599\n",
      "1     0.193948  0.136800  0.751676  0.037376\n",
      "2     0.230588  0.235899  0.596203  0.100129\n",
      "3     0.242166  0.148891  0.406759  0.087550\n",
      "4     0.128757  0.190416  0.989670  0.034993\n",
      "...        ...       ...       ...       ...\n",
      "2000  0.128595  0.136526  0.645525  0.075425\n",
      "2001  0.242035  0.235637  0.735539  0.137124\n",
      "2002  0.230760  0.148096  1.005841  0.111508\n",
      "2003  0.066912  0.095994  0.782125  0.108488\n",
      "2004  0.329646  0.259110  0.444702  0.043977\n",
      "\n",
      "[2005 rows x 4 columns]\n",
      "0       891.797\n",
      "1       664.747\n",
      "2       682.448\n",
      "3       688.667\n",
      "4       660.728\n",
      "         ...   \n",
      "2000    651.258\n",
      "2001    708.349\n",
      "2002    714.162\n",
      "2003    651.054\n",
      "2004    707.088\n",
      "Name: density, Length: 2005, dtype: float64\n"
     ]
    }
   ],
   "source": [
    "X_init = data_init.drop('density', axis=1)\n",
    "X_init = X_init.drop('density_err', axis=1)\n",
    "print(f'{X_init}')\n",
    "\n",
    "Y_init = data_init['density']\n",
    "print(f'{Y_init}')\n",
    "\n",
    "X_train_init, X_test_init, Y_train_init, Y_test_init = train_test_split(X_init, Y_init, test_size=0.05, random_state=29)\n",
    "\n",
    "                                                    \n",
    "X = data.drop('density', axis=1)\n",
    "print(f'{X}')\n",
    "\n",
    "Y = data['density']\n",
    "print(f'{Y}')\n",
    "\n",
    "X_train, X_test, Y_train, Y_test = train_test_split(X, Y, test_size=0.05, random_state=29)"
   ]
  },
  {
   "cell_type": "markdown",
   "id": "ab584022-30c7-4293-815e-a6af539aa10f",
   "metadata": {},
   "source": [
    "## create and train the model"
   ]
  },
  {
   "cell_type": "code",
   "execution_count": 54,
   "id": "4460205f-edbf-4686-8899-6a3444f8df3a",
   "metadata": {},
   "outputs": [
    {
     "name": "stdout",
     "output_type": "stream",
     "text": [
      "RMSE_init: 107.03263221243395\n",
      "R2_init: 0.2262922709240136\n",
      "\n",
      "RMSE_cleaned: 70.98544157212672\n",
      "R2_cleaned: 0.6015651228280929\n"
     ]
    }
   ],
   "source": [
    "## create the model\n",
    "model_init = LinearRegression()\n",
    "\n",
    "## train/fit the model\n",
    "model_init.fit(X_train_init, Y_train_init)\n",
    "\n",
    "## prediction using the test set\n",
    "Y_prediction_init = model_init.predict(X_test_init)\n",
    "\n",
    "## evaluate with Y_test\n",
    "rmse_init = np.sqrt(mean_squared_error(Y_test_init, Y_prediction_init))\n",
    "r2_init = r2_score(Y_test_init, Y_prediction_init)\n",
    "\n",
    "print(f'RMSE_init: {rmse_init}')\n",
    "print(f'R2_init: {r2_init}')\n",
    "print(f'')\n",
    "\n",
    "## create the model\n",
    "model = LinearRegression()\n",
    "\n",
    "## train/fit the model\n",
    "model.fit(X_train, Y_train)\n",
    "\n",
    "## Prediction using the test set\n",
    "Y_prediction = model.predict(X_test)\n",
    "\n",
    "## evaluate with Y_test\n",
    "rmse = np.sqrt(mean_squared_error(Y_test, Y_prediction))\n",
    "r2 = r2_score(Y_test, Y_prediction)\n",
    "\n",
    "print(f'RMSE_cleaned: {rmse}')\n",
    "print(f'R2_cleaned: {r2}')"
   ]
  },
  {
   "cell_type": "markdown",
   "id": "014961f1-942c-48f1-afce-69ae8ec69229",
   "metadata": {},
   "source": [
    "## Result"
   ]
  },
  {
   "cell_type": "markdown",
   "id": "2326768d-8f03-4252-80e1-f0c9bb1a39a1",
   "metadata": {},
   "source": [
    "- RMSE init: 107.03263221243395\n",
    "- R2 init: 0.2262922709240136\n",
    "\n",
    "and\n",
    "\n",
    "- RMSE cleaned: 70.98544157212672\n",
    "- R2 cleaned: 0.6015651228280929\n",
    "\n",
    "genereally: 0 <= R2 <= 1, with R2 -> 1: better matching of Y_prediction to Y_test. "
   ]
  },
  {
   "cell_type": "code",
   "execution_count": null,
   "id": "02c2dfc2-35b4-4e28-bc8a-617677bb3a03",
   "metadata": {},
   "outputs": [],
   "source": []
  }
 ],
 "metadata": {
  "kernelspec": {
   "display_name": "Python 3",
   "language": "python",
   "name": "python3"
  },
  "language_info": {
   "codemirror_mode": {
    "name": "ipython",
    "version": 3
   },
   "file_extension": ".py",
   "mimetype": "text/x-python",
   "name": "python",
   "nbconvert_exporter": "python",
   "pygments_lexer": "ipython3",
   "version": "3.11.5"
  }
 },
 "nbformat": 4,
 "nbformat_minor": 5
}
