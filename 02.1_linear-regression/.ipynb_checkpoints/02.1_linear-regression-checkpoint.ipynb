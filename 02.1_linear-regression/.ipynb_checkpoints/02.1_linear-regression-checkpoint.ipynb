{
 "cells": [
  {
   "cell_type": "markdown",
   "id": "a57d6c01-853f-404e-b6c0-fc88293baf9a",
   "metadata": {},
   "source": [
    "# Linear Regression Model"
   ]
  },
  {
   "cell_type": "markdown",
   "id": "4f6b6218-23b9-4b3e-b25b-d96beba24b8d",
   "metadata": {},
   "source": [
    "## import libs"
   ]
  },
  {
   "cell_type": "code",
   "execution_count": 3,
   "id": "49be3267-eedb-484c-906d-225a755e56f6",
   "metadata": {},
   "outputs": [],
   "source": [
    "from sklearn.model_selection import train_test_split\n",
    "from sklearn.linear_model import LinearRegression\n",
    "from sklearn.metrics import mean_squared_error, r2_score\n",
    "import numpy as np\n",
    "import pandas as pd"
   ]
  },
  {
   "cell_type": "markdown",
   "id": "85ff9cce-88a5-444b-b030-85713c795a3f",
   "metadata": {},
   "source": [
    "## read data base"
   ]
  },
  {
   "cell_type": "code",
   "execution_count": 34,
   "id": "2289398c-2526-47a5-a3b4-08999daf2479",
   "metadata": {},
   "outputs": [
    {
     "data": {
      "text/html": [
       "<div>\n",
       "<style scoped>\n",
       "    .dataframe tbody tr th:only-of-type {\n",
       "        vertical-align: middle;\n",
       "    }\n",
       "\n",
       "    .dataframe tbody tr th {\n",
       "        vertical-align: top;\n",
       "    }\n",
       "\n",
       "    .dataframe thead th {\n",
       "        text-align: right;\n",
       "    }\n",
       "</style>\n",
       "<table border=\"1\" class=\"dataframe\">\n",
       "  <thead>\n",
       "    <tr style=\"text-align: right;\">\n",
       "      <th>#</th>\n",
       "      <th>SigC</th>\n",
       "      <th>SigH</th>\n",
       "      <th>EpsC</th>\n",
       "      <th>EpsH</th>\n",
       "      <th>density</th>\n",
       "      <th>density_err</th>\n",
       "    </tr>\n",
       "  </thead>\n",
       "  <tbody>\n",
       "    <tr>\n",
       "      <th>1</th>\n",
       "      <td>0.329511</td>\n",
       "      <td>0.074231</td>\n",
       "      <td>1.036268</td>\n",
       "      <td>0.062599</td>\n",
       "      <td>891.797000</td>\n",
       "      <td>0.820</td>\n",
       "    </tr>\n",
       "    <tr>\n",
       "      <th>2</th>\n",
       "      <td>0.066754</td>\n",
       "      <td>0.316262</td>\n",
       "      <td>0.205940</td>\n",
       "      <td>0.119844</td>\n",
       "      <td>0.183657</td>\n",
       "      <td>0.009</td>\n",
       "    </tr>\n",
       "    <tr>\n",
       "      <th>3</th>\n",
       "      <td>0.193948</td>\n",
       "      <td>0.136800</td>\n",
       "      <td>0.751676</td>\n",
       "      <td>0.037376</td>\n",
       "      <td>664.747000</td>\n",
       "      <td>1.900</td>\n",
       "    </tr>\n",
       "    <tr>\n",
       "      <th>4</th>\n",
       "      <td>0.230588</td>\n",
       "      <td>0.235899</td>\n",
       "      <td>0.596203</td>\n",
       "      <td>0.100129</td>\n",
       "      <td>682.448000</td>\n",
       "      <td>0.380</td>\n",
       "    </tr>\n",
       "    <tr>\n",
       "      <th>5</th>\n",
       "      <td>0.242166</td>\n",
       "      <td>0.148891</td>\n",
       "      <td>0.406759</td>\n",
       "      <td>0.087550</td>\n",
       "      <td>688.667000</td>\n",
       "      <td>1.800</td>\n",
       "    </tr>\n",
       "    <tr>\n",
       "      <th>...</th>\n",
       "      <td>...</td>\n",
       "      <td>...</td>\n",
       "      <td>...</td>\n",
       "      <td>...</td>\n",
       "      <td>...</td>\n",
       "      <td>...</td>\n",
       "    </tr>\n",
       "    <tr>\n",
       "      <th>2044</th>\n",
       "      <td>0.242035</td>\n",
       "      <td>0.235637</td>\n",
       "      <td>0.735539</td>\n",
       "      <td>0.137124</td>\n",
       "      <td>708.349000</td>\n",
       "      <td>0.690</td>\n",
       "    </tr>\n",
       "    <tr>\n",
       "      <th>2045</th>\n",
       "      <td>0.230760</td>\n",
       "      <td>0.148096</td>\n",
       "      <td>1.005841</td>\n",
       "      <td>0.111508</td>\n",
       "      <td>714.162000</td>\n",
       "      <td>1.200</td>\n",
       "    </tr>\n",
       "    <tr>\n",
       "      <th>2046</th>\n",
       "      <td>0.194069</td>\n",
       "      <td>0.189609</td>\n",
       "      <td>0.357464</td>\n",
       "      <td>0.056020</td>\n",
       "      <td>0.000000</td>\n",
       "      <td>100.000</td>\n",
       "    </tr>\n",
       "    <tr>\n",
       "      <th>2047</th>\n",
       "      <td>0.066912</td>\n",
       "      <td>0.095994</td>\n",
       "      <td>0.782125</td>\n",
       "      <td>0.108488</td>\n",
       "      <td>651.054000</td>\n",
       "      <td>1.800</td>\n",
       "    </tr>\n",
       "    <tr>\n",
       "      <th>2048</th>\n",
       "      <td>0.329646</td>\n",
       "      <td>0.259110</td>\n",
       "      <td>0.444702</td>\n",
       "      <td>0.043977</td>\n",
       "      <td>707.088000</td>\n",
       "      <td>0.470</td>\n",
       "    </tr>\n",
       "  </tbody>\n",
       "</table>\n",
       "<p>2048 rows × 6 columns</p>\n",
       "</div>"
      ],
      "text/plain": [
       "#         SigC      SigH      EpsC      EpsH     density  density_err\n",
       "1     0.329511  0.074231  1.036268  0.062599  891.797000        0.820\n",
       "2     0.066754  0.316262  0.205940  0.119844    0.183657        0.009\n",
       "3     0.193948  0.136800  0.751676  0.037376  664.747000        1.900\n",
       "4     0.230588  0.235899  0.596203  0.100129  682.448000        0.380\n",
       "5     0.242166  0.148891  0.406759  0.087550  688.667000        1.800\n",
       "...        ...       ...       ...       ...         ...          ...\n",
       "2044  0.242035  0.235637  0.735539  0.137124  708.349000        0.690\n",
       "2045  0.230760  0.148096  1.005841  0.111508  714.162000        1.200\n",
       "2046  0.194069  0.189609  0.357464  0.056020    0.000000      100.000\n",
       "2047  0.066912  0.095994  0.782125  0.108488  651.054000        1.800\n",
       "2048  0.329646  0.259110  0.444702  0.043977  707.088000        0.470\n",
       "\n",
       "[2048 rows x 6 columns]"
      ]
     },
     "execution_count": 34,
     "metadata": {},
     "output_type": "execute_result"
    }
   ],
   "source": [
    "data = pd.read_csv('RESULTS_sobolsampling-2048.csv', index_col=1)\n",
    "data\n",
    "data = data.drop(data.columns[0], axis=1)\n",
    "data = data.transpose()\n",
    "data"
   ]
  },
  {
   "cell_type": "markdown",
   "id": "6bcd6d62-674d-4856-8aba-54e5b791810c",
   "metadata": {},
   "source": [
    "## prepare data"
   ]
  },
  {
   "cell_type": "code",
   "execution_count": 39,
   "id": "7250e452-5954-4320-a217-9f1a4635ba1a",
   "metadata": {},
   "outputs": [
    {
     "data": {
      "text/plain": [
       "1       891.797000\n",
       "2         0.183657\n",
       "3       664.747000\n",
       "4       682.448000\n",
       "5       688.667000\n",
       "           ...    \n",
       "2044    708.349000\n",
       "2045    714.162000\n",
       "2046      0.000000\n",
       "2047    651.054000\n",
       "2048    707.088000\n",
       "Name: density, Length: 2048, dtype: float64"
      ]
     },
     "execution_count": 39,
     "metadata": {},
     "output_type": "execute_result"
    }
   ],
   "source": [
    "X = data.drop('density', axis=1)\n",
    "X = X.drop('density_err', axis=1)\n",
    "#X\n",
    "\n",
    "Y = data['density']\n",
    "#Y"
   ]
  },
  {
   "cell_type": "code",
   "execution_count": null,
   "id": "412c08d3-fc53-46e1-99fd-0b5c77067dc0",
   "metadata": {},
   "outputs": [],
   "source": []
  }
 ],
 "metadata": {
  "kernelspec": {
   "display_name": "Python 3",
   "language": "python",
   "name": "python3"
  },
  "language_info": {
   "codemirror_mode": {
    "name": "ipython",
    "version": 3
   },
   "file_extension": ".py",
   "mimetype": "text/x-python",
   "name": "python",
   "nbconvert_exporter": "python",
   "pygments_lexer": "ipython3",
   "version": "3.11.5"
  }
 },
 "nbformat": 4,
 "nbformat_minor": 5
}
